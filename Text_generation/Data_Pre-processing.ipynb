{
 "cells": [
  {
   "cell_type": "code",
   "execution_count": 10,
   "metadata": {},
   "outputs": [
    {
     "name": "stdout",
     "output_type": "stream",
     "text": [
      "['book', 'i', 'i', 'went', 'down', 'yesterday', 'to', 'the', 'piraeus', 'with', 'glaucon', 'the', 'son', 'of', 'ariston', 'that', 'i', 'might', 'offer', 'up']\n",
      "2610\n",
      "2559\n"
     ]
    }
   ],
   "source": [
    "import numpy as np\n",
    "import string\n",
    "import keras\n",
    "\n",
    "\n",
    "# Read document\n",
    "filename = 'republic.txt'\n",
    "file = open(filename, 'r')\n",
    "document = file.read()\n",
    "file.close()\n",
    "\n",
    "# Clean text\n",
    "\n",
    "tokens=keras.preprocessing.text.text_to_word_sequence(document, filters='!\"#$%&()*+,-./:;<=>?@[\\\\]^_`{|}~\\t\\n', lower=True, split=' ')\n",
    "print(tokens[:20])\n",
    "print (len(tokens))\n",
    "\n",
    "# Prepare data each sequence of 51 words.\n",
    "length = 51\n",
    "sentences = []\n",
    "for i in range(length, len(tokens)):\n",
    "\tl = ' '.join(tokens[i-length:i])\n",
    "\tsentences.append(l)\n",
    "print (len(sentences))\n",
    "\n",
    "\n",
    "\n",
    "# Save the file\n",
    "filename = 'rebuplic_preprocessed.txt'\n",
    "file = open(filename, 'w')\n",
    "file.write('\\n'.join(sentences))\n",
    "file.close()\n"
   ]
  }
 ],
 "metadata": {
  "kernelspec": {
   "display_name": "Python 3",
   "language": "python",
   "name": "python3"
  },
  "language_info": {
   "codemirror_mode": {
    "name": "ipython",
    "version": 3
   },
   "file_extension": ".py",
   "mimetype": "text/x-python",
   "name": "python",
   "nbconvert_exporter": "python",
   "pygments_lexer": "ipython3",
   "version": "3.7.3"
  },
  "latex_envs": {
   "LaTeX_envs_menu_present": true,
   "autoclose": false,
   "autocomplete": true,
   "bibliofile": "biblio.bib",
   "cite_by": "apalike",
   "current_citInitial": 1,
   "eqLabelWithNumbers": true,
   "eqNumInitial": 1,
   "hotkeys": {
    "equation": "Ctrl-E",
    "itemize": "Ctrl-I"
   },
   "labels_anchors": false,
   "latex_user_defs": false,
   "report_style_numbering": false,
   "user_envs_cfg": false
  }
 },
 "nbformat": 4,
 "nbformat_minor": 2
}
