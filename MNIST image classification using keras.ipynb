{
 "cells": [
  {
   "cell_type": "code",
   "execution_count": 38,
   "metadata": {},
   "outputs": [],
   "source": [
    "#install keras using conda prompt and import for windows\n",
    "#conda install -c conda-forge keras\n",
    "from keras.datasets import mnist"
   ]
  },
  {
   "cell_type": "code",
   "execution_count": 39,
   "metadata": {},
   "outputs": [],
   "source": [
    "#download mnist data and split into train and test sets\n",
    "(x_train,y_train),(x_test,y_test) = mnist.load_data()"
   ]
  },
  {
   "cell_type": "code",
   "execution_count": 40,
   "metadata": {
    "scrolled": true
   },
   "outputs": [
    {
     "data": {
      "text/plain": [
       "(28, 28)"
      ]
     },
     "execution_count": 40,
     "metadata": {},
     "output_type": "execute_result"
    },
    {
     "data": {
      "image/png": "[encoded data removed]",
      "text/plain": [
       "<Figure size 432x288 with 1 Axes>"
      ]
     },
     "metadata": {
      "needs_background": "light"
     },
     "output_type": "display_data"
    }
   ],
   "source": [
    "import matplotlib.pyplot as plt\n",
    "\n",
    "#plot the first image in the dataset\n",
    "plt.imshow(x_train[0])\n",
    "\n",
    "#check image shape\n",
    "x_train[0].shape"
   ]
  },
  {
   "cell_type": "code",
   "execution_count": 41,
   "metadata": {},
   "outputs": [
    {
     "data": {
      "text/plain": [
       "(28, 28, 1)"
      ]
     },
     "execution_count": 41,
     "metadata": {},
     "output_type": "execute_result"
    }
   ],
   "source": [
    "#next, we need to reshape our dataset inputs(x_train and x_test)\n",
    "#to the shape that our model expects when we train the model.\n",
    "\n",
    "x_train=x_train.reshape(60000,28,28,1)\n",
    "x_test=x_test.reshape(10000,28,28,1)\n",
    "\n",
    "#The first number is the number of images(60000 for train and 10000 for test)\n",
    "#Then comes the shape of each image(28*28).\n",
    "#The last number is 1 which signifies that the images are greyscaled to train\n",
    "\n",
    "x_train[0].shape\n"
   ]
  },
  {
   "cell_type": "code",
   "execution_count": 42,
   "metadata": {},
   "outputs": [
    {
     "data": {
      "text/plain": [
       "array([0., 0., 0., 0., 0., 1., 0., 0., 0., 0.], dtype=float32)"
      ]
     },
     "execution_count": 42,
     "metadata": {},
     "output_type": "execute_result"
    }
   ],
   "source": [
    "#we need to 'one-hot-encode' our target variable. \n",
    "#we saw that the first image in the dataset is a 5. \n",
    "#this means that the sixth number in our array will have 1 and the rest of the array will be filled witb 0\n",
    "\n",
    "from keras.utils import to_categorical\n",
    "\n",
    "#to_categorical converts a class vector(integers) to binary class matrix\n",
    "\n",
    "y_train = to_categorical(y_train)\n",
    "y_test = to_categorical(y_test)\n",
    "\n",
    "y_train[0]\n",
    "\n",
    "#here in our output, 6th number of array is 1 that means label of 1st image is 5"
   ]
  },
  {
   "cell_type": "code",
   "execution_count": 43,
   "metadata": {},
   "outputs": [],
   "source": [
    "#create the model to train the dataset\n",
    "#here we use sequential model(allows you to build a model layer by layer) of keras with dense conv2D and flatten layers\n",
    "\n",
    "from keras.models import Sequential \n",
    "from keras.layers import Dense,Conv2D,Flatten\n",
    "\n",
    "#create model\n",
    "model = Sequential()\n",
    "\n",
    "#add model layers\n",
    "model.add(Conv2D(64, kernel_size=3, activation='relu', input_shape=(28,28,1)))\n",
    "model.add(Conv2D(32, kernel_size=3, activation='relu'))\n",
    "model.add(Conv2D(16, kernel_size=3, activation='relu'))\n",
    "model.add(Flatten())\n",
    "model.add(Dense(10, activation='softmax'))\n",
    "\n",
    "#convolution layers will deal with our input images, which are seen as 2-dimensional matrices\n",
    "#64 in the first layer and 32 in the second layer are the number of nodes in each layer.\n",
    "#kernel size is the size of the filter matrix for our convolution. So a kernel size of 3 means we will have a 3*3 filter matrix\n",
    "#flatten layer serves as a connection between the convolution and dense layers\n",
    "#we will use Dense layer for output layer, which will have 10 nodes in our output layer, one for each digits(0-9)\n",
    "#The activation on output layer 'softmax' makes the output sum up to 1 so the output can be interpreted as probabilities.\n"
   ]
  },
  {
   "cell_type": "code",
   "execution_count": 44,
   "metadata": {},
   "outputs": [],
   "source": [
    "#compile the model using accuracy to measure model performance\n",
    "\n",
    "model.compile(optimizer='adam',loss='categorical_crossentropy',metrics=['accuracy'])\n",
    "\n",
    "#the optimizer controls the learning rate. We will be using 'adam' as our optimizer.\n",
    "#the learning rate determines how fast the optimal weights for the model are calculated.\n",
    "#We will use ‘categorical_crossentropy’ for our loss function. This is the most common choice for classification. A lower score indicates that the model is performing better.\n",
    "#we will use the accuracy metric to see the accuracy score on the validation set when we train the model.\n"
   ]
  },
  {
   "cell_type": "code",
   "execution_count": 46,
   "metadata": {},
   "outputs": [
    {
     "name": "stdout",
     "output_type": "stream",
     "text": [
      "Train on 60000 samples, validate on 10000 samples\n",
      "Epoch 1/3\n",
      "60000/60000 [==============================] - 132s 2ms/step - loss: 0.1255 - acc: 0.9625 - val_loss: 0.0614 - val_acc: 0.9826\n",
      "Epoch 2/3\n",
      "60000/60000 [==============================] - 129s 2ms/step - loss: 0.0626 - acc: 0.9807 - val_loss: 0.0645 - val_acc: 0.9792\n",
      "Epoch 3/3\n",
      "60000/60000 [==============================] - 109s 2ms/step - loss: 0.0463 - acc: 0.9851 - val_loss: 0.0738 - val_acc: 0.9762\n"
     ]
    },
    {
     "data": {
      "text/plain": [
       "<keras.callbacks.History at 0x216867f2fd0>"
      ]
     },
     "execution_count": 46,
     "metadata": {},
     "output_type": "execute_result"
    }
   ],
   "source": [
    "#train the model\n",
    "\n",
    "model.fit(x_train,y_train,validation_data=(x_test,y_test),epochs=3)\n",
    "\n",
    "#the purpose of validation_data is to track progress through validation loss and accuracy.\n",
    "#epochs is number of times your model iterate"
   ]
  },
  {
   "cell_type": "code",
   "execution_count": 47,
   "metadata": {},
   "outputs": [
    {
     "data": {
      "text/plain": [
       "array([[4.0410109e-07, 4.6404525e-13, 5.6472906e-08, 4.0210761e-08,\n",
       "        7.3305459e-11, 4.0817115e-12, 2.9014724e-14, 9.9999785e-01,\n",
       "        2.5908037e-07, 1.3582702e-06],\n",
       "       [7.9650665e-05, 1.7673774e-07, 9.9991262e-01, 2.1878870e-08,\n",
       "        2.1706949e-08, 1.6333840e-12, 3.1296458e-06, 3.4226214e-10,\n",
       "        4.4005546e-06, 1.3408095e-09],\n",
       "       [6.2394392e-06, 9.9719810e-01, 5.3827152e-06, 3.3208753e-06,\n",
       "        8.4096787e-04, 1.5518491e-04, 9.4934848e-07, 2.8019835e-04,\n",
       "        1.4312660e-03, 7.8317855e-05],\n",
       "       [9.9975222e-01, 7.1318307e-10, 2.6703335e-06, 6.4893413e-08,\n",
       "        1.3287147e-04, 2.8367381e-10, 9.3597111e-05, 7.4767223e-07,\n",
       "        6.5707027e-06, 1.1207509e-05],\n",
       "       [1.4488922e-06, 8.5118891e-11, 7.8517576e-07, 5.3642541e-08,\n",
       "        9.9998999e-01, 4.5847159e-10, 5.9000018e-07, 3.7696523e-06,\n",
       "        6.5780647e-08, 3.1963225e-06],\n",
       "       [8.9303848e-07, 9.9921584e-01, 8.4493671e-08, 4.9824439e-07,\n",
       "        5.6280417e-04, 4.5585523e-08, 1.8867045e-08, 1.1790065e-04,\n",
       "        8.3604085e-05, 1.8333985e-05],\n",
       "       [1.3059867e-10, 1.5382635e-06, 2.7179231e-08, 3.0830942e-09,\n",
       "        9.9974054e-01, 2.9307039e-08, 4.9656347e-07, 1.5772051e-07,\n",
       "        2.0175484e-04, 5.5421024e-05],\n",
       "       [1.0449855e-09, 4.5527759e-07, 1.5257782e-04, 1.6726683e-05,\n",
       "        5.2657670e-05, 1.6112193e-07, 1.6110219e-08, 5.5125953e-09,\n",
       "        3.9378792e-05, 9.9973804e-01],\n",
       "       [3.3023272e-07, 4.7791893e-14, 1.3283208e-10, 9.5679231e-10,\n",
       "        4.8095104e-11, 3.7453942e-02, 9.6245801e-01, 9.0406476e-12,\n",
       "        8.7216577e-05, 4.3738507e-07],\n",
       "       [1.4735903e-06, 8.8980368e-12, 6.6600331e-10, 1.4962891e-08,\n",
       "        4.9529834e-05, 3.2849601e-10, 2.1165289e-10, 1.3628807e-04,\n",
       "        1.8654637e-05, 9.9979395e-01]], dtype=float32)"
      ]
     },
     "execution_count": 47,
     "metadata": {},
     "output_type": "execute_result"
    }
   ],
   "source": [
    "#predict first 10 images in the test set(our test set has 10000 that's why we just select 10 images)\n",
    "\n",
    "model.predict(x_test[:10])\n",
    "\n",
    "#in our output the highest numbered column of array is our answer for image(like, for 1st 9.99999 means our 1st image is 7(array indexed from 0))"
   ]
  },
  {
   "cell_type": "code",
   "execution_count": 48,
   "metadata": {},
   "outputs": [
    {
     "data": {
      "text/plain": [
       "array([[0., 0., 0., 0., 0., 0., 0., 1., 0., 0.],\n",
       "       [0., 0., 1., 0., 0., 0., 0., 0., 0., 0.],\n",
       "       [0., 1., 0., 0., 0., 0., 0., 0., 0., 0.],\n",
       "       [1., 0., 0., 0., 0., 0., 0., 0., 0., 0.],\n",
       "       [0., 0., 0., 0., 1., 0., 0., 0., 0., 0.],\n",
       "       [0., 1., 0., 0., 0., 0., 0., 0., 0., 0.],\n",
       "       [0., 0., 0., 0., 1., 0., 0., 0., 0., 0.],\n",
       "       [0., 0., 0., 0., 0., 0., 0., 0., 0., 1.],\n",
       "       [0., 0., 0., 0., 0., 1., 0., 0., 0., 0.],\n",
       "       [0., 0., 0., 0., 0., 0., 0., 0., 0., 1.]], dtype=float32)"
      ]
     },
     "execution_count": 48,
     "metadata": {},
     "output_type": "execute_result"
    }
   ],
   "source": [
    "#to make sure our output is right or wrong, you can compare with above output\n",
    "\n",
    "y_test[:10]"
   ]
  }
 ],
 "metadata": {
  "kernelspec": {
   "display_name": "Python 3",
   "language": "python",
   "name": "python3"
  },
  "language_info": {
   "codemirror_mode": {
    "name": "ipython",
    "version": 3
   },
   "file_extension": ".py",
   "mimetype": "text/x-python",
   "name": "python",
   "nbconvert_exporter": "python",
   "pygments_lexer": "ipython3",
   "version": "3.7.3"
  },
  "latex_envs": {
   "LaTeX_envs_menu_present": true,
   "autoclose": false,
   "autocomplete": true,
   "bibliofile": "biblio.bib",
   "cite_by": "apalike",
   "current_citInitial": 1,
   "eqLabelWithNumbers": true,
   "eqNumInitial": 1,
   "hotkeys": {
    "equation": "Ctrl-E",
    "itemize": "Ctrl-I"
   },
   "labels_anchors": false,
   "latex_user_defs": false,
   "report_style_numbering": false,
   "user_envs_cfg": false
  }
 },
 "nbformat": 4,
 "nbformat_minor": 2
}
